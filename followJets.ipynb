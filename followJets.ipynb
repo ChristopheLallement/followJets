{
 "cells": [
  {
   "cell_type": "code",
   "execution_count": 1,
   "metadata": {},
   "outputs": [],
   "source": [
    "import sys\n",
    "sys.path.append(\"./\")\n",
    "\n",
    "import pprint\n",
    "pp = pprint.PrettyPrinter(indent=4)\n",
    "\n",
    "import follow_jets"
   ]
  },
  {
   "cell_type": "markdown",
   "metadata": {},
   "source": [
    "Read planes to follow from file"
   ]
  },
  {
   "cell_type": "code",
   "execution_count": 2,
   "metadata": {},
   "outputs": [
    {
     "data": {
      "text/plain": [
       "['OE-LUC',\n",
       " 'OE-IPE',\n",
       " 'RA-25101',\n",
       " 'RA-25103',\n",
       " 'VP-CLS',\n",
       " 'RA-02775',\n",
       " 'VP-CLO',\n",
       " 'VP-CLZ',\n",
       " 'P4-MES',\n",
       " 'P4-BDL',\n",
       " 'LX-GVI',\n",
       " 'LX-RAY',\n",
       " 'LX-LUX',\n",
       " 'M-SOLA',\n",
       " 'D-ALEX',\n",
       " 'D-ALXX',\n",
       " 'D-APGS',\n",
       " 'D-ARKO',\n",
       " 'OE-IGS',\n",
       " 'VP-BKG',\n",
       " 'M-SAWO',\n",
       " 'M-ALAY',\n",
       " 'M-UGIC',\n",
       " 'M-UKHA',\n",
       " 'M-URKA',\n",
       " 'M-AKAE',\n",
       " 'M-URKA',\n",
       " 'M-RBUS',\n",
       " 'M-IABU',\n",
       " 'LX-GLX',\n",
       " 'M-DLBR',\n",
       " 'P4-MIS',\n",
       " 'N650GL',\n",
       " 'RA-25777',\n",
       " 'P4-GEM',\n",
       " 'N761LE',\n",
       " 'N671LE',\n",
       " 'N737LE',\n",
       " 'N777UK',\n",
       " 'M-KATE',\n",
       " 'M-MAVP',\n",
       " 'LX-FLY',\n",
       " 'M-YSSF',\n",
       " 'OE-INL',\n",
       " 'VP-BBW',\n",
       " 'M-TINK',\n",
       " 'N138MH']"
      ]
     },
     "execution_count": 2,
     "metadata": {},
     "output_type": "execute_result"
    }
   ],
   "source": [
    "planes = follow_jets.read_planes()\n",
    "planes"
   ]
  },
  {
   "cell_type": "markdown",
   "metadata": {},
   "source": [
    "Get live data"
   ]
  },
  {
   "cell_type": "code",
   "execution_count": 7,
   "metadata": {},
   "outputs": [
    {
     "ename": "ValueError",
     "evalue": "The truth value of a DataFrame is ambiguous. Use a.empty, a.bool(), a.item(), a.any() or a.all().",
     "output_type": "error",
     "traceback": [
      "\u001b[0;31m---------------------------------------------------------------------------\u001b[0m",
      "\u001b[0;31mValueError\u001b[0m                                Traceback (most recent call last)",
      "\u001b[1;32m/home/clallement/code/perso/github_clallment/followJets/followJets.ipynb Cell 5'\u001b[0m in \u001b[0;36m<cell line: 1>\u001b[0;34m()\u001b[0m\n\u001b[0;32m----> <a href='vscode-notebook-cell:/home/clallement/code/perso/github_clallment/followJets/followJets.ipynb#ch0000004?line=0'>1</a>\u001b[0m df \u001b[39m=\u001b[39m follow_jets\u001b[39m.\u001b[39;49mfetch_data()\n\u001b[1;32m      <a href='vscode-notebook-cell:/home/clallement/code/perso/github_clallment/followJets/followJets.ipynb#ch0000004?line=1'>2</a>\u001b[0m df\n",
      "File \u001b[0;32m~/code/perso/github_clallment/followJets/follow_jets.py:23\u001b[0m, in \u001b[0;36mfetch_data\u001b[0;34m()\u001b[0m\n\u001b[1;32m     <a href='file:///~/code/perso/github_clallment/followJets/follow_jets.py?line=18'>19</a>\u001b[0m now \u001b[39m=\u001b[39m time\u001b[39m.\u001b[39mtime()\n\u001b[1;32m     <a href='file:///~/code/perso/github_clallment/followJets/follow_jets.py?line=20'>21</a>\u001b[0m \u001b[39mglobal\u001b[39;00m _cached_data, _cached_data_time\n\u001b[0;32m---> <a href='file:///~/code/perso/github_clallment/followJets/follow_jets.py?line=22'>23</a>\u001b[0m \u001b[39mif\u001b[39;00m \u001b[39mnot\u001b[39;00m _cached_data \u001b[39mor\u001b[39;00m now \u001b[39m-\u001b[39m _cached_data_time \u001b[39m>\u001b[39m ttl:\n\u001b[1;32m     <a href='file:///~/code/perso/github_clallment/followJets/follow_jets.py?line=23'>24</a>\u001b[0m     \u001b[39m# fetch\u001b[39;00m\n\u001b[1;32m     <a href='file:///~/code/perso/github_clallment/followJets/follow_jets.py?line=24'>25</a>\u001b[0m     states \u001b[39m=\u001b[39m api\u001b[39m.\u001b[39mget_states()\n\u001b[1;32m     <a href='file:///~/code/perso/github_clallment/followJets/follow_jets.py?line=26'>27</a>\u001b[0m     \u001b[39m# transform into dataframe\u001b[39;00m\n",
      "File \u001b[0;32m~/code/perso/github_clallment/followJets/.venv/lib/python3.8/site-packages/pandas/core/generic.py:1535\u001b[0m, in \u001b[0;36mNDFrame.__nonzero__\u001b[0;34m(self)\u001b[0m\n\u001b[1;32m   <a href='file:///~/code/perso/github_clallment/followJets/.venv/lib/python3.8/site-packages/pandas/core/generic.py?line=1532'>1533</a>\u001b[0m \u001b[39m@final\u001b[39m\n\u001b[1;32m   <a href='file:///~/code/perso/github_clallment/followJets/.venv/lib/python3.8/site-packages/pandas/core/generic.py?line=1533'>1534</a>\u001b[0m \u001b[39mdef\u001b[39;00m \u001b[39m__nonzero__\u001b[39m(\u001b[39mself\u001b[39m):\n\u001b[0;32m-> <a href='file:///~/code/perso/github_clallment/followJets/.venv/lib/python3.8/site-packages/pandas/core/generic.py?line=1534'>1535</a>\u001b[0m     \u001b[39mraise\u001b[39;00m \u001b[39mValueError\u001b[39;00m(\n\u001b[1;32m   <a href='file:///~/code/perso/github_clallment/followJets/.venv/lib/python3.8/site-packages/pandas/core/generic.py?line=1535'>1536</a>\u001b[0m         \u001b[39mf\u001b[39m\u001b[39m\"\u001b[39m\u001b[39mThe truth value of a \u001b[39m\u001b[39m{\u001b[39;00m\u001b[39mtype\u001b[39m(\u001b[39mself\u001b[39m)\u001b[39m.\u001b[39m\u001b[39m__name__\u001b[39m\u001b[39m}\u001b[39;00m\u001b[39m is ambiguous. \u001b[39m\u001b[39m\"\u001b[39m\n\u001b[1;32m   <a href='file:///~/code/perso/github_clallment/followJets/.venv/lib/python3.8/site-packages/pandas/core/generic.py?line=1536'>1537</a>\u001b[0m         \u001b[39m\"\u001b[39m\u001b[39mUse a.empty, a.bool(), a.item(), a.any() or a.all().\u001b[39m\u001b[39m\"\u001b[39m\n\u001b[1;32m   <a href='file:///~/code/perso/github_clallment/followJets/.venv/lib/python3.8/site-packages/pandas/core/generic.py?line=1537'>1538</a>\u001b[0m     )\n",
      "\u001b[0;31mValueError\u001b[0m: The truth value of a DataFrame is ambiguous. Use a.empty, a.bool(), a.item(), a.any() or a.all()."
     ]
    }
   ],
   "source": [
    "df = follow_jets.fetch_data()\n",
    "df"
   ]
  },
  {
   "cell_type": "markdown",
   "metadata": {},
   "source": [
    "Pick random planes from data for testing purpose"
   ]
  },
  {
   "cell_type": "code",
   "execution_count": 4,
   "metadata": {},
   "outputs": [
    {
     "data": {
      "text/plain": [
       "['EJA594',\n",
       " 'ASA809',\n",
       " 'GIA088',\n",
       " 'JTL209',\n",
       " 'N135PF',\n",
       " 'N55338',\n",
       " 'WZZ1763',\n",
       " 'CGCUL',\n",
       " 'AZU2886',\n",
       " 'N886WF']"
      ]
     },
     "execution_count": 4,
     "metadata": {},
     "output_type": "execute_result"
    }
   ],
   "source": [
    "sample_size = 10\n",
    "planes = list(df.sample(10)['callsign'])\n",
    "planes"
   ]
  },
  {
   "cell_type": "markdown",
   "metadata": {},
   "source": [
    "## Display plane on world map"
   ]
  },
  {
   "cell_type": "markdown",
   "metadata": {},
   "source": [
    "Extract planes postions from data"
   ]
  },
  {
   "cell_type": "code",
   "execution_count": 5,
   "metadata": {},
   "outputs": [
    {
     "name": "stdout",
     "output_type": "stream",
     "text": [
      "10\n",
      "[   (50.4973, 17.9376),\n",
      "    (43.1108, -85.6456),\n",
      "    (10.5721, 82.542),\n",
      "    (41.5642, -100.2109),\n",
      "    (34.9356, -78.1667),\n",
      "    (43.1255, -85.637),\n",
      "    (35.0593, -106.5199),\n",
      "    (-22.9114, -47.0692),\n",
      "    (36.0509, -83.861),\n",
      "    (45.5699, -122.8862)]\n"
     ]
    }
   ],
   "source": [
    "found = follow_jets.search_planes(planes, df)\n",
    "positions = follow_jets.get_positions(found)\n",
    "\n",
    "pp.pprint(len(positions))\n",
    "\n",
    "pp.pprint(positions)"
   ]
  },
  {
   "cell_type": "markdown",
   "metadata": {},
   "source": [
    "Draw marker on map"
   ]
  },
  {
   "cell_type": "code",
   "execution_count": 6,
   "metadata": {},
   "outputs": [
    {
     "data": {
      "application/vnd.jupyter.widget-view+json": {
       "model_id": "573eb477a4ea446d9871d90a35043a99",
       "version_major": 2,
       "version_minor": 0
      },
      "text/plain": [
       "Map(center=[0, 0], controls=(ZoomControl(options=['position', 'zoom_in_text', 'zoom_in_title', 'zoom_out_text'…"
      ]
     },
     "metadata": {},
     "output_type": "display_data"
    }
   ],
   "source": [
    "from ipyleaflet import (\n",
    "    Map,\n",
    "    Heatmap,\n",
    "    Circle,\n",
    "    MarkerCluster,\n",
    "    Marker,\n",
    "    AwesomeIcon,\n",
    "    CircleMarker,\n",
    ")\n",
    "\n",
    "\n",
    "m = Map(center=(0, 0), zoom=2)\n",
    "\n",
    "for p in positions:\n",
    "    m.add_layer(\n",
    "        CircleMarker(location=p, radius=1, color=\"green\", fill_color=\"green\")\n",
    "    )\n",
    "\n",
    "# clusters Markers\n",
    "# icon1 = AwesomeIcon(\n",
    "#     name='fa-plane',\n",
    "#     marker_color='red',\n",
    "#     icon_color='black',\n",
    "#     spin=False\n",
    "# )\n",
    "# markermarkers = [Marker(location=p, icon=icon1) for p in positions ]\n",
    "# m.add_layer(MarkerCluster(markers=markers)) \n",
    "  \n",
    "\n",
    "display(m)\n"
   ]
  }
 ],
 "metadata": {
  "interpreter": {
   "hash": "05f41964990dd8cde0ec7ec59257a4c8c507d52627e9b993d306127de45c09d3"
  },
  "kernelspec": {
   "display_name": "Python 3 (ipykernel)",
   "language": "python",
   "name": "python3"
  },
  "language_info": {
   "codemirror_mode": {
    "name": "ipython",
    "version": 3
   },
   "file_extension": ".py",
   "mimetype": "text/x-python",
   "name": "python",
   "nbconvert_exporter": "python",
   "pygments_lexer": "ipython3",
   "version": "3.8.10"
  }
 },
 "nbformat": 4,
 "nbformat_minor": 4
}
